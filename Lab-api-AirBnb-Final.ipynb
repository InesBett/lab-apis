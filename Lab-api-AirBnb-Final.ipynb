{
 "cells": [
  {
   "cell_type": "code",
   "execution_count": 2,
   "id": "e6c3aa3c-e1ba-4b3b-b60d-3d827b10f950",
   "metadata": {},
   "outputs": [],
   "source": [
    "from dotenv import load_dotenv\n",
    "import os "
   ]
  },
  {
   "cell_type": "code",
   "execution_count": 4,
   "id": "dd8419ba-c621-4ff8-a8d5-b40ac614e562",
   "metadata": {},
   "outputs": [
    {
     "data": {
      "text/plain": [
       "'C:\\\\Users\\\\Inês Bettencourt\\\\Documents\\\\Ironhack\\\\api'"
      ]
     },
     "execution_count": 4,
     "metadata": {},
     "output_type": "execute_result"
    }
   ],
   "source": [
    "os.getcwd()"
   ]
  },
  {
   "cell_type": "code",
   "execution_count": 13,
   "id": "0cbd9283-0970-44ed-833c-87cb1f9f63ed",
   "metadata": {},
   "outputs": [],
   "source": [
    "my_key = os.getenv(\"API_KEY\")"
   ]
  },
  {
   "cell_type": "code",
   "execution_count": 6,
   "id": "2c2be1da-36c8-4b61-81cb-0748a1a39b8a",
   "metadata": {},
   "outputs": [
    {
     "data": {
      "text/plain": [
       "True"
      ]
     },
     "execution_count": 6,
     "metadata": {},
     "output_type": "execute_result"
    }
   ],
   "source": [
    "load_dotenv()"
   ]
  },
  {
   "cell_type": "code",
   "execution_count": 7,
   "id": "a1f6c7e8-2f6d-4285-8d63-c7d430342b00",
   "metadata": {},
   "outputs": [],
   "source": [
    "import requests"
   ]
  },
  {
   "cell_type": "code",
   "execution_count": 8,
   "id": "caecdb1c-b247-40fe-8374-df3843381823",
   "metadata": {},
   "outputs": [],
   "source": [
    "import warnings\n",
    "warnings.filterwarnings(\"ignore\")"
   ]
  },
  {
   "cell_type": "code",
   "execution_count": 14,
   "id": "41d8e240-93ad-4c34-b18b-026d13bc57a3",
   "metadata": {},
   "outputs": [
    {
     "name": "stdout",
     "output_type": "stream",
     "text": [
      "API Key loaded successfully.\n",
      "Request successful!\n",
      "{'status': True, 'message': 'Success', 'timestamp': 1727638331524, 'data': [{'avgRating': 4.71, 'listingBathroomLabel': '1 bath', 'bathrooms': 1, 'listingBedLabel': '2 beds', 'bedrooms': 1, 'beds': 2, 'businessHostLabel': None, 'city': 'Chicago', 'configurableContent': None, 'contextualPicturesPageInfo': {'hasNextPage': True, 'endCursor': 'NQ=='}, 'emergencyMessage': None, 'listingFloatingMessage': None, 'formattedBadges': [], 'listingGuestLabel': '4 guests', 'id': '1165156361567366794', 'isAutoTranslated': False, 'isNewListing': False, 'isSuperhost': False, 'relaxedFilterLabels': None, 'localizedCityName': 'Chicago', 'localizedDistanceText': None, 'locationTitle': None, 'locationContext': None, 'listingName': 'Guest 2 Queen Room at Aloft Chicago Mag Mile', 'listingObjType': 'REPRESENTATIVE', 'neighborhood': None, 'listingPreviewAmenityNames': None, 'previewTags': [], 'publicAddress': 'Chicago, IL, United States', 'reviews': [], 'reviewsCount': 170, 'richKickers': None, 'roomType': 'Entire home/apt', 'roomTypeCategory': 'entire_home', 'roomTypeId': None, 'spaceType': 'Apartment', 'starRating': 4.5, 'summary': None, 'wishlistedCount': None, 'title': 'Apartment in Chicago', 'avgRatingLocalized': '4.71 (170)', 'accessibilityLabel': '$110 per night, originally $137', 'concatQualifierLeft': False, 'discountedPrice': '$110', 'originalPrice': '$137', 'qualifier': 'night', 'trailingContent': None, 'adults': 1, 'children': 0, 'infants': 0, 'checkin': '2024-10-27', 'checkout': '2024-11-01', 'relaxedAmenityIds': None, 'categoryTag': None, 'pets': 0, 'location': {'mapBoundsHint': {'northeast': {'latitude': 42.04889, 'longitude': -87.62015631828865}, 'southwest': {'latitude': 41.79599, 'longitude': -87.87788999999998}}, 'fallbackMapCenter': {'latitude': 41.8781136, 'longitude': -87.6297982}}, 'verified': {'enabled': False, 'badgeText': 'Plus', 'badgeSecondaryText': 'Verified', 'kickerBadgeType': 'filled'}, 'webURL': 'https://www.airbnb.com/rooms/1165156361567366794?guests=1&adults=1', 'images': ['https://a0.muscache.com/im/pictures/prohost-api/Hosting-1165156361567366794/original/9de126ef-050f-4ee1-a497-6af43ac4b066.png?im_w=720', 'https://a0.muscache.com/im/pictures/prohost-api/Hosting-1165156361567366794/original/56b873d5-e54b-4874-bfbc-506db467e270.png?im_w=720', 'https://a0.muscache.com/im/pictures/prohost-api/Hosting-1165156361567366794/original/768b4138-343f-4dd4-8ac7-e32b9023c999.png?im_w=720', 'https://a0.muscache.com/im/pictures/prohost-api/Hosting-1165156361567366794/original/e299ade7-31d3-4e9f-a297-65d8e24a386c.png?im_w=720', 'https://a0.muscache.com/im/pictures/prohost-api/Hosting-1165156361567366794/original/7f57949f-6148-4ab7-b4a6-0b111de02fe2.png?im_w=720', 'https://a0.muscache.com/im/pictures/prohost-api/Hosting-1165156361567366794/original/a9c3e854-1bec-495c-8af9-3c25baf5acb2.png?im_w=720']}, {'avgRating': 3.91, 'listingBathroomLabel': '1 bath', 'bathrooms': 1, 'listingBedLabel': '1 bed', 'bedrooms': 1, 'beds': 1, 'businessHostLabel': None, 'city': 'Chicago', 'configurableContent': None, 'contextualPicturesPageInfo': {'hasNextPage': True, 'endCursor': 'NQ=='}, 'emergencyMessage': None, 'listingFloatingMessage': None, 'formattedBadges': [], 'listingGuestLabel': '2 guests', 'id': '1096410574269495242', 'isAutoTranslated': False, 'isNewListing': False, 'isSuperhost': False, 'relaxedFilterLabels': None, 'localizedCityName': 'Chicago', 'localizedDistanceText': None, 'locationTitle': None, 'locationContext': None, 'listingName': 'Modern Metropolitan Stay Near Navy Pier', 'listingObjType': 'REPRESENTATIVE', 'neighborhood': None, 'listingPreviewAmenityNames': None, 'previewTags': [], 'publicAddress': 'Chicago, IL, United States', 'reviews': None, 'reviewsCount': 69, 'richKickers': None, 'roomType': 'Private room', 'roomTypeCategory': 'private_room', 'roomTypeId': None, 'spaceType': 'Hotel room', 'starRating': 4, 'summary': None, 'wishlistedCount': None, 'title': 'Hotel in Chicago', 'avgRatingLocalized': '3.91 (69)', 'accessibilityLabel': '$108 per night', 'concatQualifierLeft': False, 'price': '$108', 'qualifier': 'night', 'trailingContent': None, 'adults': 1, 'children': 0, 'infants': 0, 'checkin': '2024-10-25', 'checkout': '2024-10-30', 'relaxedAmenityIds': None, 'categoryTag': None, 'pets': 0, 'location': {'mapBoundsHint': {'northeast': {'latitude': 42.04889, 'longitude': -87.62015631828865}, 'southwest': {'latitude': 41.79599, 'longitude': -87.87788999999998}}, 'fallbackMapCenter': {'latitude': 41.8781136, 'longitude': -87.6297982}}, 'verified': {'enabled': False, 'badgeText': 'Plus', 'badgeSecondaryText': 'Verified', 'kickerBadgeType': 'filled'}, 'webURL': 'https://www.airbnb.com/rooms/1096410574269495242?guests=1&adults=1', 'images': ['https://a0.muscache.com/im/pictures/prohost-api/Hosting-1096410574269495242/original/7678b158-f13b-415d-9f7c-470a42547b7e.jpeg?im_w=720', 'https://a0.muscache.com/im/pictures/prohost-api/Hosting-1096410574269495242/original/7ab549fe-744a-4bbf-a101-00e5975fe2f1.jpeg?im_w=720', 'https://a0.muscache.com/im/pictures/prohost-api/Hosting-1096410574269495242/original/f7fed4c3-4ecc-4635-ad03-ed114bc15183.jpeg?im_w=720', 'https://a0.muscache.com/im/pictures/prohost-api/Hosting-1096410574269495242/original/fbe6f225-b3a6-4546-9145-692c52f7ab8e.jpeg?im_w=720', 'https://a0.muscache.com/im/pictures/prohost-api/Hosting-1096410574269495242/original/b508d439-dc0c-45d0-ab68-4f9cbf726361.jpeg?im_w=720', 'https://a0.muscache.com/im/pictures/prohost-api/Hosting-1096410574269495242/original/cadf7c24-5563-496c-9725-ca59c57d5b59.jpeg?im_w=720']}, {'avgRating': 4.94, 'listingBathroomLabel': '2 shared baths', 'bathrooms': 2, 'listingBedLabel': '1 bed', 'bedrooms': 1, 'beds': 1, 'businessHostLabel': None, 'city': 'Lyons', 'configurableContent': None, 'contextualPicturesPageInfo': {'hasNextPage': True, 'endCursor': 'NQ=='}, 'emergencyMessage': None, 'listingFloatingMessage': None, 'formattedBadges': [{'textColor': '#000000', 'text': 'Guest favorite', 'borderColor': None, 'backgroundColor': None}], 'listingGuestLabel': '1 guest', 'id': '647198335378431921', 'isAutoTranslated': False, 'isNewListing': False, 'isSuperhost': True, 'relaxedFilterLabels': None, 'localizedCityName': 'Lyons', 'localizedDistanceText': None, 'locationTitle': None, 'locationContext': None, 'listingName': 'Room FLO is cute, cozy and a private room', 'listingObjType': 'REGULAR', 'neighborhood': None, 'listingPreviewAmenityNames': None, 'previewTags': [], 'publicAddress': 'Lyons, IL, United States', 'reviews': [], 'reviewsCount': 71, 'richKickers': None, 'roomType': 'Private room', 'roomTypeCategory': 'private_room', 'roomTypeId': None, 'spaceType': 'Private room', 'starRating': 5, 'summary': None, 'wishlistedCount': None, 'title': 'Room in Lyons', 'avgRatingLocalized': '4.94 (71)', 'accessibilityLabel': '$58 per night', 'concatQualifierLeft': False, 'price': '$58', 'qualifier': 'night', 'trailingContent': None, 'adults': 1, 'children': 0, 'infants': 0, 'checkin': '2024-10-01', 'checkout': '2024-10-06', 'relaxedAmenityIds': None, 'categoryTag': 'Tag:8678', 'pets': 0, 'location': {'mapBoundsHint': {'northeast': {'latitude': 42.04889, 'longitude': -87.62015631828865}, 'southwest': {'latitude': 41.79599, 'longitude': -87.87788999999998}}, 'fallbackMapCenter': {'latitude': 41.8781136, 'longitude': -87.6297982}}, 'verified': {'enabled': False, 'badgeText': 'Plus', 'badgeSecondaryText': 'Verified', 'kickerBadgeType': 'filled'}, 'webURL': 'https://www.airbnb.com/rooms/647198335378431921?guests=1&adults=1', 'images': ['https://a0.muscache.com/im/pictures/85ea44d1-7fd9-4d71-8269-7a0d93b9ea30.jpg?im_w=720', 'https://a0.muscache.com/im/pictures/ee48b7dd-8109-4da8-9740-11209215d6a3.jpg?im_w=720', 'https://a0.muscache.com/im/pictures/7a3e0936-e314-41fb-952d-0249573c4cb3.jpg?im_w=720', 'https://a0.muscache.com/im/pictures/a12b484b-d8a1-4bd5-a2bd-54c72920bfee.jpg?im_w=720', 'https://a0.muscache.com/im/pictures/311c793c-ef04-4f9b-9eb4-9689e17ed29e.jpg?im_w=720', 'https://a0.muscache.com/im/pictures/09ff4e3f-1328-47fc-93f7-9d861181e23d.jpg?im_w=720']}, {'avgRating': 5, 'listingBathroomLabel': '1 bath', 'bathrooms': 1, 'listingBedLabel': '2 beds', 'bedrooms': 2, 'beds': 2, 'businessHostLabel': None, 'city': 'Berwyn', 'configurableContent': None, 'contextualPicturesPageInfo': {'hasNextPage': True, 'endCursor': 'NQ=='}, 'emergencyMessage': None, 'listingFloatingMessage': None, 'formattedBadges': [{'textColor': '#FFFFFF', 'text': 'Superhost', 'borderColor': None, 'backgroundColor': None}], 'listingGuestLabel': '4 guests', 'id': '1238440457651851832', 'isAutoTranslated': False, 'isNewListing': True, 'isSuperhost': True, 'relaxedFilterLabels': None, 'localizedCityName': 'Berwyn', 'localizedDistanceText': None, 'locationTitle': None, 'locationContext': None, 'listingName': 'PrivateAPT/Near Food, Stores,Garage parking', 'listingObjType': 'REGULAR', 'neighborhood': None, 'listingPreviewAmenityNames': None, 'previewTags': [], 'publicAddress': 'Berwyn, IL, United States', 'reviews': None, 'reviewsCount': 3, 'richKickers': None, 'roomType': 'Entire home/apt', 'roomTypeCategory': 'entire_home', 'roomTypeId': None, 'spaceType': 'Apartment', 'starRating': 5, 'summary': None, 'wishlistedCount': None, 'title': 'Apartment in Berwyn', 'avgRatingLocalized': '5.0 (3)', 'accessibilityLabel': '$96 per night', 'concatQualifierLeft': False, 'price': '$96', 'qualifier': 'night', 'trailingContent': None, 'adults': 1, 'children': 0, 'infants': 0, 'checkin': '2024-11-02', 'checkout': '2024-11-07', 'relaxedAmenityIds': None, 'categoryTag': None, 'pets': 0, 'location': {'mapBoundsHint': {'northeast': {'latitude': 42.04889, 'longitude': -87.62015631828865}, 'southwest': {'latitude': 41.79599, 'longitude': -87.87788999999998}}, 'fallbackMapCenter': {'latitude': 41.8781136, 'longitude': -87.6297982}}, 'verified': {'enabled': False, 'badgeText': 'Plus', 'badgeSecondaryText': 'Verified', 'kickerBadgeType': 'filled'}, 'webURL': 'https://www.airbnb.com/rooms/1238440457651851832?guests=1&adults=1', 'images': ['https://a0.muscache.com/im/pictures/hosting/Hosting-1238440457651851832/original/a94805c7-5636-4421-9178-af7a77ed406b.jpeg?im_w=720', 'https://a0.muscache.com/im/pictures/hosting/Hosting-1238440457651851832/original/f125d9c5-c4ee-41b6-9e30-ee6dcd1d9710.jpeg?im_w=720', 'https://a0.muscache.com/im/pictures/hosting/Hosting-1238440457651851832/original/043f5aad-d352-49f2-a75c-dca7d3e95669.jpeg?im_w=720', 'https://a0.muscache.com/im/pictures/hosting/Hosting-1238440457651851832/original/24392894-d71d-43c9-bd5c-1c5be893ebec.jpeg?im_w=720', 'https://a0.muscache.com/im/pictures/hosting/Hosting-1238440457651851832/original/a945095b-65b2-4469-9c18-2f25ccb50e03.jpeg?im_w=720', 'https://a0.muscache.com/im/pictures/hosting/Hosting-1238440457651851832/original/eef8ae79-2d73-4250-9e87-50ff66b10ad8.jpeg?im_w=720']}, {'avgRating': 4.97, 'listingBathroomLabel': '1 bath', 'bathrooms': 1, 'listingBedLabel': '1 bed', 'bedrooms': 0, 'beds': 1, 'businessHostLabel': None, 'city': 'Chicago', 'configurableContent': None, 'contextualPicturesPageInfo': {'hasNextPage': True, 'endCursor': 'NQ=='}, 'emergencyMessage': None, 'listingFloatingMessage': None, 'formattedBadges': [{'textColor': '#000000', 'text': 'Guest favorite', 'borderColor': None, 'backgroundColor': None}], 'listingGuestLabel': '4 guests', 'id': '671015054572757157', 'isAutoTranslated': False, 'isNewListing': False, 'isSuperhost': True, 'relaxedFilterLabels': None, 'localizedCityName': 'Chicago', 'localizedDistanceText': None, 'locationTitle': None, 'locationContext': None, 'listingName': 'Private hot tub - King bed suite - Free parking', 'listingObjType': 'REGULAR', 'neighborhood': None, 'listingPreviewAmenityNames': None, 'previewTags': [], 'publicAddress': 'Chicago, IL, United States', 'reviews': [], 'reviewsCount': 147, 'richKickers': None, 'roomType': 'Entire home/apt', 'roomTypeCategory': 'entire_home', 'roomTypeId': None, 'spaceType': 'Condo', 'starRating': 5, 'summary': None, 'wishlistedCount': None, 'title': 'Condo in Chicago', 'avgRatingLocalized': '4.97 (147)', 'accessibilityLabel': '$162 per night', 'concatQualifierLeft': False, 'price': '$162', 'qualifier': 'night', 'trailingContent': None, 'adults': 1, 'children': 0, 'infants': 0, 'checkin': '2024-12-22', 'checkout': '2024-12-27', 'relaxedAmenityIds': None, 'categoryTag': None, 'pets': 0, 'location': {'mapBoundsHint': {'northeast': {'latitude': 42.04889, 'longitude': -87.62015631828865}, 'southwest': {'latitude': 41.79599, 'longitude': -87.87788999999998}}, 'fallbackMapCenter': {'latitude': 41.8781136, 'longitude': -87.6297982}}, 'verified': {'enabled': False, 'badgeText': 'Plus', 'badgeSecondaryText': 'Verified', 'kickerBadgeType': 'filled'}, 'webURL': 'https://www.airbnb.com/rooms/671015054572757157?guests=1&adults=1', 'images': ['https://a0.muscache.com/im/pictures/miso/Hosting-671015054572757157/original/55e9b6c5-1607-40b7-abbe-f43b87aa5717.jpeg?im_w=720', 'https://a0.muscache.com/im/pictures/miso/Hosting-671015054572757157/original/65b1f46f-434f-45ce-9f3f-d75105dda5ee.jpeg?im_w=720', 'https://a0.muscache.com/im/pictures/miso/Hosting-671015054572757157/original/e604ab37-5540-4cd3-894b-7125c10d25e5.jpeg?im_w=720', 'https://a0.muscache.com/im/pictures/miso/Hosting-671015054572757157/original/3c3f4233-9873-4a43-8fed-1fab8ed6a168.jpeg?im_w=720', 'https://a0.muscache.com/im/pictures/miso/Hosting-671015054572757157/original/73c5a5e2-d86b-4bec-b8de-ee6d5862f909.jpeg?im_w=720', 'https://a0.muscache.com/im/pictures/miso/Hosting-671015054572757157/original/03a141d0-d5a0-493d-8ff9-2f9122912053.jpeg?im_w=720']}, {'avgRating': None, 'listingBathroomLabel': '1 shared bath', 'bathrooms': 1, 'listingBedLabel': '1 bed', 'bedrooms': 1, 'beds': 1, 'businessHostLabel': None, 'city': 'Chicago', 'configurableContent': None, 'contextualPicturesPageInfo': {'hasNextPage': True, 'endCursor': 'NQ=='}, 'emergencyMessage': None, 'listingFloatingMessage': None, 'formattedBadges': [], 'listingGuestLabel': '1 guest', 'id': '1248573903967106022', 'isAutoTranslated': False, 'isNewListing': True, 'isSuperhost': False, 'relaxedFilterLabels': None, 'localizedCityName': 'Chicago', 'localizedDistanceText': None, 'locationTitle': None, 'locationContext': None, 'listingName': \"Traveler's Dream - 1 bed in a shared bedroom\", 'listingObjType': 'REPRESENTATIVE', 'neighborhood': None, 'listingPreviewAmenityNames': None, 'previewTags': [], 'publicAddress': 'Chicago, IL, United States', 'reviews': None, 'reviewsCount': 0, 'richKickers': None, 'roomType': 'Shared room', 'roomTypeCategory': 'shared_room', 'roomTypeId': None, 'spaceType': 'Shared hotel room', 'starRating': None, 'summary': None, 'wishlistedCount': None, 'title': 'Shared hotel room in Chicago', 'avgRatingLocalized': 'New', 'accessibilityLabel': '$46 per night', 'concatQualifierLeft': False, 'price': '$46', 'qualifier': 'night', 'trailingContent': None, 'adults': 1, 'children': 0, 'infants': 0, 'checkin': '2024-10-06', 'checkout': '2024-10-11', 'relaxedAmenityIds': None, 'categoryTag': None, 'pets': 0, 'location': {'mapBoundsHint': {'northeast': {'latitude': 42.04889, 'longitude': -87.62015631828865}, 'southwest': {'latitude': 41.79599, 'longitude': -87.87788999999998}}, 'fallbackMapCenter': {'latitude': 41.8781136, 'longitude': -87.6297982}}, 'verified': {'enabled': False, 'badgeText': 'Plus', 'badgeSecondaryText': 'Verified', 'kickerBadgeType': 'filled'}, 'webURL': 'https://www.airbnb.com/rooms/1248573903967106022?guests=1&adults=1', 'images': ['https://a0.muscache.com/im/pictures/prohost-api/Hosting-1248573903967106022/original/f231e4ae-5a79-487b-94ef-eeb82064373b.jpeg?im_w=720', 'https://a0.muscache.com/im/pictures/prohost-api/Hosting-1248573903967106022/original/532af291-e723-4f24-b234-2d57f1d35490.jpeg?im_w=720', 'https://a0.muscache.com/im/pictures/prohost-api/Hosting-1248573903967106022/original/2e815ea2-bcd1-4d25-85c2-d541f402598d.jpeg?im_w=720', 'https://a0.muscache.com/im/pictures/prohost-api/Hosting-1248573903967106022/original/dac058b3-94e6-4d6a-b30a-6bac0585cea1.jpeg?im_w=720', 'https://a0.muscache.com/im/pictures/prohost-api/Hosting-1248573903967106022/original/7af1d394-cef0-440d-8ac1-6ea40e5ef7e5.jpeg?im_w=720', 'https://a0.muscache.com/im/pictures/prohost-api/Hosting-1248573903967106022/original/a3b1506d-d87c-477c-804f-459a232f100c.jpeg?im_w=720']}, {'avgRating': 4.69, 'listingBathroomLabel': '1 bath', 'bathrooms': 1, 'listingBedLabel': '1 bed', 'bedrooms': 1, 'beds': 1, 'businessHostLabel': None, 'city': 'Chicago', 'configurableContent': None, 'contextualPicturesPageInfo': {'hasNextPage': True, 'endCursor': 'NQ=='}, 'emergencyMessage': None, 'listingFloatingMessage': None, 'formattedBadges': [{'textColor': '#FFFFFF', 'text': 'Superhost', 'borderColor': None, 'backgroundColor': None}], 'listingGuestLabel': '2 guests', 'id': '629028544930934083', 'isAutoTranslated': False, 'isNewListing': False, 'isSuperhost': True, 'relaxedFilterLabels': None, 'localizedCityName': 'Chicago', 'localizedDistanceText': None, 'locationTitle': None, 'locationContext': None, 'listingName': '1BR Modern Apartment in Lincoln Square', 'listingObjType': 'REPRESENTATIVE', 'neighborhood': None, 'listingPreviewAmenityNames': None, 'previewTags': [], 'publicAddress': 'Chicago, IL, United States', 'reviews': [], 'reviewsCount': 202, 'richKickers': None, 'roomType': 'Entire home/apt', 'roomTypeCategory': 'entire_home', 'roomTypeId': None, 'spaceType': 'Apartment', 'starRating': 4.5, 'summary': None, 'wishlistedCount': None, 'title': 'Apartment in Chicago', 'avgRatingLocalized': '4.69 (202)', 'accessibilityLabel': '$71 per night, originally $115', 'concatQualifierLeft': False, 'discountedPrice': '$71', 'originalPrice': '$115', 'qualifier': 'night', 'trailingContent': None, 'adults': 1, 'children': 0, 'infants': 0, 'checkin': '2024-10-06', 'checkout': '2024-10-11', 'relaxedAmenityIds': None, 'categoryTag': None, 'pets': 0, 'location': {'mapBoundsHint': {'northeast': {'latitude': 42.04889, 'longitude': -87.62015631828865}, 'southwest': {'latitude': 41.79599, 'longitude': -87.87788999999998}}, 'fallbackMapCenter': {'latitude': 41.8781136, 'longitude': -87.6297982}}, 'verified': {'enabled': False, 'badgeText': 'Plus', 'badgeSecondaryText': 'Verified', 'kickerBadgeType': 'filled'}, 'webURL': 'https://www.airbnb.com/rooms/629028544930934083?guests=1&adults=1', 'images': ['https://a0.muscache.com/im/pictures/prohost-api/Hosting-629028544930934083/original/5d86837d-6e4d-42d7-a4b1-bb3e358bb32c.jpeg?im_w=720', 'https://a0.muscache.com/im/pictures/prohost-api/Hosting-629028544930934083/original/ac81ab4a-ca90-4604-adb4-85e5759a9d63.jpeg?im_w=720', 'https://a0.muscache.com/im/pictures/prohost-api/Hosting-629028544930934083/original/fc807757-f25d-413c-9889-1809b965f804.jpeg?im_w=720', 'https://a0.muscache.com/im/pictures/prohost-api/Hosting-629028544930934083/original/6bcf6a19-9dd0-4ec0-8f85-0cf9b73e84e2.jpeg?im_w=720', 'https://a0.muscache.com/im/pictures/prohost-api/Hosting-629028544930934083/original/6810e018-ea22-422c-bc46-7b82b5eda807.jpeg?im_w=720', 'https://a0.muscache.com/im/pictures/prohost-api/Hosting-629028544930934083/original/dee83825-5f3a-4d89-8ad4-7ab7c6c935ad.jpeg?im_w=720']}, {'avgRating': 4.92, 'listingBathroomLabel': '3 shared baths', 'bathrooms': 3, 'listingBedLabel': '1 bed', 'bedrooms': 1, 'beds': 1, 'businessHostLabel': None, 'city': 'Skokie', 'configurableContent': None, 'contextualPicturesPageInfo': {'hasNextPage': True, 'endCursor': 'NQ=='}, 'emergencyMessage': None, 'listingFloatingMessage': None, 'formattedBadges': [{'textColor': '#000000', 'text': 'Guest favorite', 'borderColor': None, 'backgroundColor': None}], 'listingGuestLabel': '2 guests', 'id': '1234340994641336369', 'isAutoTranslated': False, 'isNewListing': True, 'isSuperhost': True, 'relaxedFilterLabels': None, 'localizedCityName': 'Skokie', 'localizedDistanceText': None, 'locationTitle': None, 'locationContext': None, 'listingName': 'Room near Northwestern &\\nDowntown Chicago!', 'listingObjType': 'REGULAR', 'neighborhood': None, 'listingPreviewAmenityNames': None, 'previewTags': [], 'publicAddress': 'Skokie, IL, United States', 'reviews': [], 'reviewsCount': 12, 'richKickers': None, 'roomType': 'Private room', 'roomTypeCategory': 'private_room', 'roomTypeId': None, 'spaceType': 'Private room', 'starRating': 5, 'summary': None, 'wishlistedCount': None, 'title': 'Room in Skokie', 'avgRatingLocalized': '4.92 (12)', 'accessibilityLabel': '$53 per night', 'concatQualifierLeft': False, 'price': '$53', 'qualifier': 'night', 'trailingContent': None, 'adults': 1, 'children': 0, 'infants': 0, 'checkin': '2024-10-19', 'checkout': '2024-10-24', 'relaxedAmenityIds': None, 'categoryTag': 'Tag:8678', 'pets': 0, 'location': {'mapBoundsHint': {'northeast': {'latitude': 42.04889, 'longitude': -87.62015631828865}, 'southwest': {'latitude': 41.79599, 'longitude': -87.87788999999998}}, 'fallbackMapCenter': {'latitude': 41.8781136, 'longitude': -87.6297982}}, 'verified': {'enabled': False, 'badgeText': 'Plus', 'badgeSecondaryText': 'Verified', 'kickerBadgeType': 'filled'}, 'webURL': 'https://www.airbnb.com/rooms/1234340994641336369?guests=1&adults=1', 'images': ['https://a0.muscache.com/im/pictures/hosting/Hosting-1234340994641336369/original/f0e61f64-0f91-4b5a-a046-b096353daa84.jpeg?im_w=720', 'https://a0.muscache.com/im/pictures/hosting/Hosting-1234340994641336369/original/68667e12-ebef-4e20-9209-56e5c8630409.jpeg?im_w=720', 'https://a0.muscache.com/im/pictures/hosting/Hosting-1234340994641336369/original/89b73b7a-a3a8-47b8-b84e-145effd1148f.jpeg?im_w=720', 'https://a0.muscache.com/im/pictures/hosting/Hosting-1234340994641336369/original/3f6a0afa-b456-43bd-b3c7-bedb28651747.jpeg?im_w=720', 'https://a0.muscache.com/im/pictures/hosting/Hosting-1234340994641336369/original/aafed4c8-33ea-4380-b99a-086923c77b3e.jpeg?im_w=720', 'https://a0.muscache.com/im/pictures/hosting/Hosting-1234340994641336369/original/e6c92601-0875-4c8e-90ef-53d5adfbf02a.jpeg?im_w=720']}, {'avgRating': 4.81, 'listingBathroomLabel': '1 shared bath', 'bathrooms': 1, 'listingBedLabel': '1 bed', 'bedrooms': 1, 'beds': 1, 'businessHostLabel': None, 'city': 'Chicago', 'configurableContent': None, 'contextualPicturesPageInfo': {'hasNextPage': True, 'endCursor': 'NQ=='}, 'emergencyMessage': None, 'listingFloatingMessage': None, 'formattedBadges': [{'textColor': '#FFFFFF', 'text': 'Superhost', 'borderColor': None, 'backgroundColor': None}], 'listingGuestLabel': '2 guests', 'id': '13014320', 'isAutoTranslated': False, 'isNewListing': False, 'isSuperhost': True, 'relaxedFilterLabels': None, 'localizedCityName': 'Chicago', 'localizedDistanceText': None, 'locationTitle': None, 'locationContext': None, 'listingName': 'Loft Style Private Apt (1 Room- 420 Friendly)', 'listingObjType': 'REGULAR', 'neighborhood': None, 'listingPreviewAmenityNames': None, 'previewTags': [], 'publicAddress': 'Chicago, II, United States', 'reviews': [], 'reviewsCount': 387, 'richKickers': None, 'roomType': 'Private room', 'roomTypeCategory': 'private_room', 'roomTypeId': None, 'spaceType': 'Private room', 'starRating': 5, 'summary': None, 'wishlistedCount': None, 'title': 'Room in Chicago', 'avgRatingLocalized': '4.81 (387)', 'accessibilityLabel': '$45 per night', 'concatQualifierLeft': False, 'price': '$45', 'qualifier': 'night', 'trailingContent': None, 'adults': 1, 'children': 0, 'infants': 0, 'checkin': '2024-10-14', 'checkout': '2024-10-19', 'relaxedAmenityIds': None, 'categoryTag': 'Tag:8678', 'pets': 0, 'location': {'mapBoundsHint': {'northeast': {'latitude': 42.04889, 'longitude': -87.62015631828865}, 'southwest': {'latitude': 41.79599, 'longitude': -87.87788999999998}}, 'fallbackMapCenter': {'latitude': 41.8781136, 'longitude': -87.6297982}}, 'verified': {'enabled': False, 'badgeText': 'Plus', 'badgeSecondaryText': 'Verified', 'kickerBadgeType': 'filled'}, 'webURL': 'https://www.airbnb.com/rooms/13014320?guests=1&adults=1', 'images': ['https://a0.muscache.com/im/pictures/eabb655c-0fe8-4757-a62f-48323a3800d5.jpg?im_w=720', 'https://a0.muscache.com/im/pictures/d68660e9-deb6-4900-b275-84d8b7a12ee9.jpg?im_w=720', 'https://a0.muscache.com/im/pictures/6d7304da-7ed2-4a75-97ac-31a283207b6b.jpg?im_w=720', 'https://a0.muscache.com/im/pictures/a2d54b47-97d8-44fc-a625-31b1b0881d8c.jpg?im_w=720', 'https://a0.muscache.com/im/pictures/47becf7b-aa81-4e19-98ab-bb96c8f09aad.jpg?im_w=720', 'https://a0.muscache.com/im/pictures/c1d9b0d2-8478-42b3-9763-055b23a44eb3.jpg?im_w=720']}, {'avgRating': 4.87, 'listingBathroomLabel': '1 private bath', 'bathrooms': 1, 'listingBedLabel': '1 bed', 'bedrooms': 1, 'beds': 1, 'businessHostLabel': None, 'city': 'Chicago', 'configurableContent': None, 'contextualPicturesPageInfo': {'hasNextPage': True, 'endCursor': 'NQ=='}, 'emergencyMessage': None, 'listingFloatingMessage': None, 'formattedBadges': [{'textColor': '#000000', 'text': 'Guest favorite', 'borderColor': None, 'backgroundColor': None}], 'listingGuestLabel': '2 guests', 'id': '31741615', 'isAutoTranslated': False, 'isNewListing': False, 'isSuperhost': False, 'relaxedFilterLabels': None, 'localizedCityName': 'Chicago', 'localizedDistanceText': None, 'locationTitle': None, 'locationContext': None, 'listingName': 'Cozy PrivateRoom+ExclusiveBathroom+FreeStreetPking', 'listingObjType': 'REGULAR', 'neighborhood': None, 'listingPreviewAmenityNames': None, 'previewTags': [], 'publicAddress': 'Chicago, IL, United States', 'reviews': [], 'reviewsCount': 126, 'richKickers': None, 'roomType': 'Private room', 'roomTypeCategory': 'private_room', 'roomTypeId': None, 'spaceType': 'Private room', 'starRating': 5, 'summary': None, 'wishlistedCount': None, 'title': 'Room in Chicago', 'avgRatingLocalized': '4.87 (126)', 'accessibilityLabel': '$40 per night, originally $57', 'concatQualifierLeft': False, 'discountedPrice': '$40', 'originalPrice': '$57', 'qualifier': 'night', 'trailingContent': None, 'adults': 1, 'children': 0, 'infants': 0, 'checkin': '2024-10-14', 'checkout': '2024-10-19', 'relaxedAmenityIds': None, 'categoryTag': 'Tag:8678', 'pets': 0, 'location': {'mapBoundsHint': {'northeast': {'latitude': 42.04889, 'longitude': -87.62015631828865}, 'southwest': {'latitude': 41.79599, 'longitude': -87.87788999999998}}, 'fallbackMapCenter': {'latitude': 41.8781136, 'longitude': -87.6297982}}, 'verified': {'enabled': False, 'badgeText': 'Plus', 'badgeSecondaryText': 'Verified', 'kickerBadgeType': 'filled'}, 'webURL': 'https://www.airbnb.com/rooms/31741615?guests=1&adults=1', 'images': ['https://a0.muscache.com/im/pictures/miso/Hosting-31741615/original/7bb71a83-9a56-4fef-a8f1-b274713e89b0.jpeg?im_w=720', 'https://a0.muscache.com/im/pictures/miso/Hosting-31741615/original/5b7c4731-69e0-404a-ab70-fca93800c662.jpeg?im_w=720', 'https://a0.muscache.com/im/pictures/miso/Hosting-31741615/original/0bf58209-7a55-4ad9-a4b8-b94cb01f4c88.jpeg?im_w=720', 'https://a0.muscache.com/im/pictures/miso/Hosting-31741615/original/0b1b36f3-d45d-4337-97a9-a3f7445f19d6.jpeg?im_w=720', 'https://a0.muscache.com/im/pictures/miso/Hosting-31741615/original/23ff3dc1-0531-4445-8778-b0f6c80e18e9.jpeg?im_w=720', 'https://a0.muscache.com/im/pictures/miso/Hosting-31741615/original/cb2df836-fae2-43ec-b3cc-dd83ab4b73ba.jpeg?im_w=720']}, {'avgRating': 4.97, 'listingBathroomLabel': '1 private bath', 'bathrooms': 1, 'listingBedLabel': '1 bed', 'bedrooms': 1, 'beds': 1, 'businessHostLabel': None, 'city': 'Chicago', 'configurableContent': None, 'contextualPicturesPageInfo': {'hasNextPage': True, 'endCursor': 'NQ=='}, 'emergencyMessage': None, 'listingFloatingMessage': None, 'formattedBadges': [{'textColor': '#000000', 'text': 'Guest favorite', 'borderColor': None, 'backgroundColor': None}], 'listingGuestLabel': '3 guests', 'id': '1106854440294479414', 'isAutoTranslated': False, 'isNewListing': False, 'isSuperhost': False, 'relaxedFilterLabels': None, 'localizedCityName': 'Chicago', 'localizedDistanceText': None, 'locationTitle': None, 'locationContext': None, 'listingName': 'A1- Next to the train & Downtown', 'listingObjType': 'REGULAR', 'neighborhood': None, 'listingPreviewAmenityNames': None, 'previewTags': [], 'publicAddress': 'Chicago, IL, United States', 'reviews': [], 'reviewsCount': 29, 'richKickers': None, 'roomType': 'Private room', 'roomTypeCategory': 'private_room', 'roomTypeId': None, 'spaceType': 'Private room', 'starRating': 5, 'summary': None, 'wishlistedCount': None, 'title': 'Room in Chicago', 'avgRatingLocalized': '4.97 (29)', 'accessibilityLabel': '$43 per night', 'concatQualifierLeft': False, 'price': '$43', 'qualifier': 'night', 'trailingContent': None, 'adults': 1, 'children': 0, 'infants': 0, 'checkin': '2024-10-27', 'checkout': '2024-11-01', 'relaxedAmenityIds': None, 'categoryTag': 'Tag:8678', 'pets': 0, 'location': {'mapBoundsHint': {'northeast': {'latitude': 42.04889, 'longitude': -87.62015631828865}, 'southwest': {'latitude': 41.79599, 'longitude': -87.87788999999998}}, 'fallbackMapCenter': {'latitude': 41.8781136, 'longitude': -87.6297982}}, 'verified': {'enabled': False, 'badgeText': 'Plus', 'badgeSecondaryText': 'Verified', 'kickerBadgeType': 'filled'}, 'webURL': 'https://www.airbnb.com/rooms/1106854440294479414?guests=1&adults=1', 'images': ['https://a0.muscache.com/im/pictures/ef8795e5-722b-4af8-b140-3a814708464b.jpg?im_w=720', 'https://a0.muscache.com/im/pictures/b8c52725-1e48-49e7-8e60-eea3b689ed7a.jpg?im_w=720', 'https://a0.muscache.com/im/pictures/2fb8e398-5fca-4573-84a2-f7243663d035.jpg?im_w=720', 'https://a0.muscache.com/im/pictures/ee9af19a-2453-4b0a-b281-3c7b336925a8.jpg?im_w=720', 'https://a0.muscache.com/im/pictures/d2d0519f-af27-4d0f-8b8a-712ea1de9ff4.jpg?im_w=720', 'https://a0.muscache.com/im/pictures/f812bf8f-251b-4d5d-a0eb-304f79dba63e.jpg?im_w=720']}, {'avgRating': 4.88, 'listingBathroomLabel': '1 shared bath', 'bathrooms': 1, 'listingBedLabel': '1 bed', 'bedrooms': 1, 'beds': 1, 'businessHostLabel': None, 'city': 'Des Plaines', 'configurableContent': None, 'contextualPicturesPageInfo': {'hasNextPage': True, 'endCursor': 'NQ=='}, 'emergencyMessage': None, 'listingFloatingMessage': None, 'formattedBadges': [{'textColor': '#000000', 'text': 'Guest favorite', 'borderColor': None, 'backgroundColor': None}], 'listingGuestLabel': '2 guests', 'id': '52954517', 'isAutoTranslated': False, 'isNewListing': False, 'isSuperhost': True, 'relaxedFilterLabels': None, 'localizedCityName': 'Des Plaines', 'localizedDistanceText': None, 'locationTitle': None, 'locationContext': None, 'listingName': 'R2 Cozy room in a convenient location by a river', 'listingObjType': 'REGULAR', 'neighborhood': None, 'listingPreviewAmenityNames': None, 'previewTags': [], 'publicAddress': 'Des Plaines, IL, United States', 'reviews': [], 'reviewsCount': 372, 'richKickers': None, 'roomType': 'Private room', 'roomTypeCategory': 'private_room', 'roomTypeId': None, 'spaceType': 'Private room', 'starRating': 5, 'summary': None, 'wishlistedCount': None, 'title': 'Room in Des Plaines', 'avgRatingLocalized': '4.88 (372)', 'accessibilityLabel': '$63 per night', 'concatQualifierLeft': False, 'price': '$63', 'qualifier': 'night', 'trailingContent': None, 'adults': 1, 'children': 0, 'infants': 0, 'checkin': '2024-10-01', 'checkout': '2024-10-06', 'relaxedAmenityIds': None, 'categoryTag': 'Tag:8678', 'pets': 0, 'location': {'mapBoundsHint': {'northeast': {'latitude': 42.04889, 'longitude': -87.62015631828865}, 'southwest': {'latitude': 41.79599, 'longitude': -87.87788999999998}}, 'fallbackMapCenter': {'latitude': 41.8781136, 'longitude': -87.6297982}}, 'verified': {'enabled': False, 'badgeText': 'Plus', 'badgeSecondaryText': 'Verified', 'kickerBadgeType': 'filled'}, 'webURL': 'https://www.airbnb.com/rooms/52954517?guests=1&adults=1', 'images': ['https://a0.muscache.com/im/pictures/miso/Hosting-52954517/original/143ea899-e691-4963-998a-a504d9994e85.jpeg?im_w=720', 'https://a0.muscache.com/im/pictures/miso/Hosting-52954517/original/2cee562b-8f36-4d02-8f53-e0918169d7d7.jpeg?im_w=720', 'https://a0.muscache.com/im/pictures/miso/Hosting-52954517/original/7da5ce76-c858-4bdf-b8a5-61298332c8de.jpeg?im_w=720', 'https://a0.muscache.com/im/pictures/miso/Hosting-52954517/original/7156d891-8ffe-45d0-9931-06b53725b9be.jpeg?im_w=720', 'https://a0.muscache.com/im/pictures/d46023ec-da73-4034-8add-19665771ea10.jpg?im_w=720', 'https://a0.muscache.com/im/pictures/77f9bfa6-2a1e-4f5b-87a2-68f87dc89a49.jpg?im_w=720']}, {'avgRating': 4.6, 'listingBathroomLabel': '1 shared bath', 'bathrooms': 1, 'listingBedLabel': '1 bed', 'bedrooms': 1, 'beds': 1, 'businessHostLabel': None, 'city': 'Chicago', 'configurableContent': None, 'contextualPicturesPageInfo': {'hasNextPage': True, 'endCursor': 'NQ=='}, 'emergencyMessage': None, 'listingFloatingMessage': None, 'formattedBadges': [], 'listingGuestLabel': '3 guests', 'id': '51584386', 'isAutoTranslated': False, 'isNewListing': False, 'isSuperhost': False, 'relaxedFilterLabels': None, 'localizedCityName': 'Chicago', 'localizedDistanceText': None, 'locationTitle': None, 'locationContext': None, 'listingName': 'P6. Next to Downtown! Best location', 'listingObjType': 'REGULAR', 'neighborhood': None, 'listingPreviewAmenityNames': None, 'previewTags': [], 'publicAddress': 'Chicago, IL, United States', 'reviews': [], 'reviewsCount': 68, 'richKickers': None, 'roomType': 'Private room', 'roomTypeCategory': 'private_room', 'roomTypeId': None, 'spaceType': 'Private room', 'starRating': 4.5, 'summary': None, 'wishlistedCount': None, 'title': 'Room in Chicago', 'avgRatingLocalized': '4.6 (68)', 'accessibilityLabel': '$45 per night', 'concatQualifierLeft': False, 'price': '$45', 'qualifier': 'night', 'trailingContent': None, 'adults': 1, 'children': 0, 'infants': 0, 'checkin': '2024-10-20', 'checkout': '2024-10-25', 'relaxedAmenityIds': None, 'categoryTag': 'Tag:8678', 'pets': 0, 'location': {'mapBoundsHint': {'northeast': {'latitude': 42.04889, 'longitude': -87.62015631828865}, 'southwest': {'latitude': 41.79599, 'longitude': -87.87788999999998}}, 'fallbackMapCenter': {'latitude': 41.8781136, 'longitude': -87.6297982}}, 'verified': {'enabled': False, 'badgeText': 'Plus', 'badgeSecondaryText': 'Verified', 'kickerBadgeType': 'filled'}, 'webURL': 'https://www.airbnb.com/rooms/51584386?guests=1&adults=1', 'images': ['https://a0.muscache.com/im/pictures/151d69e3-9d4c-4ec9-a376-22cb786132e1.jpg?im_w=720', 'https://a0.muscache.com/im/pictures/55994c6a-8cec-4c9a-a125-81e5607b5e7a.jpg?im_w=720', 'https://a0.muscache.com/im/pictures/a630806c-c347-42c3-9455-55d12fdbf77a.jpg?im_w=720', 'https://a0.muscache.com/im/pictures/6b7a02cc-3dba-4730-847b-d6ca7f6a6f13.jpg?im_w=720', 'https://a0.muscache.com/im/pictures/3ca759e9-4afc-4007-bcd5-cd5c69bd4936.jpg?im_w=720', 'https://a0.muscache.com/im/pictures/60c4153d-dd0a-4d4f-9254-47e714a6b096.jpg?im_w=720']}, {'avgRating': 5, 'listingBathroomLabel': '1 bath', 'bathrooms': 1, 'listingBedLabel': '1 bed', 'bedrooms': 1, 'beds': 1, 'businessHostLabel': None, 'city': 'Summit', 'configurableContent': None, 'contextualPicturesPageInfo': {'hasNextPage': False, 'endCursor': None}, 'emergencyMessage': None, 'listingFloatingMessage': None, 'formattedBadges': [], 'listingGuestLabel': '2 guests', 'id': '1247122317509556784', 'isAutoTranslated': False, 'isNewListing': True, 'isSuperhost': False, 'relaxedFilterLabels': None, 'localizedCityName': 'Summit', 'localizedDistanceText': None, 'locationTitle': None, 'locationContext': None, 'listingName': 'Cozy 1BR APT', 'listingObjType': 'REGULAR', 'neighborhood': None, 'listingPreviewAmenityNames': None, 'previewTags': [], 'publicAddress': 'Summit, IL, United States', 'reviews': None, 'reviewsCount': 3, 'richKickers': None, 'roomType': 'Entire home/apt', 'roomTypeCategory': 'entire_home', 'roomTypeId': None, 'spaceType': 'Apartment', 'starRating': 5, 'summary': None, 'wishlistedCount': None, 'title': 'Apartment in Summit', 'avgRatingLocalized': '5.0 (3)', 'accessibilityLabel': '$80 per night', 'concatQualifierLeft': False, 'price': '$80', 'qualifier': 'night', 'trailingContent': None, 'adults': 1, 'children': 0, 'infants': 0, 'checkin': '2024-10-06', 'checkout': '2024-10-11', 'relaxedAmenityIds': None, 'categoryTag': None, 'pets': 0, 'location': {'mapBoundsHint': {'northeast': {'latitude': 42.04889, 'longitude': -87.62015631828865}, 'southwest': {'latitude': 41.79599, 'longitude': -87.87788999999998}}, 'fallbackMapCenter': {'latitude': 41.8781136, 'longitude': -87.6297982}}, 'verified': {'enabled': False, 'badgeText': 'Plus', 'badgeSecondaryText': 'Verified', 'kickerBadgeType': 'filled'}, 'webURL': 'https://www.airbnb.com/rooms/1247122317509556784?guests=1&adults=1', 'images': ['https://a0.muscache.com/im/pictures/hosting/Hosting-1247122317509556784/original/5869c5e4-6ec9-480f-baae-140f0b68a692.jpeg?im_w=720', 'https://a0.muscache.com/im/pictures/hosting/Hosting-1247122317509556784/original/82be3ea4-d8f6-4166-a890-092e88445afd.jpeg?im_w=720', 'https://a0.muscache.com/im/pictures/hosting/Hosting-1247122317509556784/original/d00bd44e-a2cd-4ece-87b0-0590bad20541.jpeg?im_w=720', 'https://a0.muscache.com/im/pictures/hosting/Hosting-1247122317509556784/original/67b534bb-b822-4d85-ba79-0c3579f5565d.jpeg?im_w=720', 'https://a0.muscache.com/im/pictures/hosting/Hosting-1247122317509556784/original/a93dfac4-af8c-4145-9c72-124d63ad485f.jpeg?im_w=720']}, {'avgRating': 4.89, 'listingBathroomLabel': '1 shared bath', 'bathrooms': 1, 'listingBedLabel': '1 bed', 'bedrooms': 1, 'beds': 1, 'businessHostLabel': None, 'city': 'Franklin Park', 'configurableContent': None, 'contextualPicturesPageInfo': {'hasNextPage': True, 'endCursor': 'NQ=='}, 'emergencyMessage': None, 'listingFloatingMessage': None, 'formattedBadges': [{'textColor': '#FFFFFF', 'text': 'Superhost', 'borderColor': None, 'backgroundColor': None}], 'listingGuestLabel': '2 guests', 'id': '39104012', 'isAutoTranslated': False, 'isNewListing': False, 'isSuperhost': True, 'relaxedFilterLabels': None, 'localizedCityName': 'Franklin Park', 'localizedDistanceText': None, 'locationTitle': None, 'locationContext': None, 'listingName': 'Victorian Antique room', 'listingObjType': 'REGULAR', 'neighborhood': None, 'listingPreviewAmenityNames': None, 'previewTags': [], 'publicAddress': 'Franklin Park, IL, United States', 'reviews': [], 'reviewsCount': 148, 'richKickers': None, 'roomType': 'Private room', 'roomTypeCategory': 'private_room', 'roomTypeId': None, 'spaceType': 'Private room', 'starRating': 5, 'summary': None, 'wishlistedCount': None, 'title': 'Room in Franklin Park', 'avgRatingLocalized': '4.89 (148)', 'accessibilityLabel': '$69 per night', 'concatQualifierLeft': False, 'price': '$69', 'qualifier': 'night', 'trailingContent': None, 'adults': 1, 'children': 0, 'infants': 0, 'checkin': '2024-10-01', 'checkout': '2024-10-06', 'relaxedAmenityIds': None, 'categoryTag': 'Tag:8678', 'pets': 0, 'location': {'mapBoundsHint': {'northeast': {'latitude': 42.04889, 'longitude': -87.62015631828865}, 'southwest': {'latitude': 41.79599, 'longitude': -87.87788999999998}}, 'fallbackMapCenter': {'latitude': 41.8781136, 'longitude': -87.6297982}}, 'verified': {'enabled': False, 'badgeText': 'Plus', 'badgeSecondaryText': 'Verified', 'kickerBadgeType': 'filled'}, 'webURL': 'https://www.airbnb.com/rooms/39104012?guests=1&adults=1', 'images': ['https://a0.muscache.com/im/pictures/cedee6ee-da11-4a6d-a595-269fc8ea8d17.jpg?im_w=720', 'https://a0.muscache.com/im/pictures/hosting/Hosting-39104012/original/527e9bd6-7e59-4799-bef0-ad60df2e7a1d.jpeg?im_w=720', 'https://a0.muscache.com/im/pictures/hosting/Hosting-39104012/original/fa42303e-3e5e-447a-94e9-4beb0172db88.jpeg?im_w=720', 'https://a0.muscache.com/im/pictures/hosting/Hosting-39104012/original/a1040c5f-3ad7-4ebc-a16e-84bd83efbd91.jpeg?im_w=720', 'https://a0.muscache.com/im/pictures/2be17c68-7f9b-4939-8896-983ae299c0bc.jpg?im_w=720', 'https://a0.muscache.com/im/pictures/hosting/Hosting-39104012/original/e955f798-e780-45ef-adeb-fa02c314f258.jpeg?im_w=720']}, {'avgRating': 4.73, 'listingBathroomLabel': '1 private bath', 'bathrooms': 1, 'listingBedLabel': '1 bed', 'bedrooms': 1, 'beds': 1, 'businessHostLabel': None, 'city': 'Chicago', 'configurableContent': None, 'contextualPicturesPageInfo': {'hasNextPage': True, 'endCursor': 'NQ=='}, 'emergencyMessage': None, 'listingFloatingMessage': None, 'formattedBadges': [], 'listingGuestLabel': '3 guests', 'id': '609500552813051903', 'isAutoTranslated': False, 'isNewListing': False, 'isSuperhost': False, 'relaxedFilterLabels': None, 'localizedCityName': 'Chicago', 'localizedDistanceText': None, 'locationTitle': None, 'locationContext': None, 'listingName': 'H2- A Block to Wrigley Field - UpTo3Guests', 'listingObjType': 'REGULAR', 'neighborhood': None, 'listingPreviewAmenityNames': None, 'previewTags': [], 'publicAddress': 'Chicago, IL, United States', 'reviews': [], 'reviewsCount': 77, 'richKickers': None, 'roomType': 'Private room', 'roomTypeCategory': 'private_room', 'roomTypeId': None, 'spaceType': 'Private room', 'starRating': 5, 'summary': None, 'wishlistedCount': None, 'title': 'Room in Chicago', 'avgRatingLocalized': '4.73 (77)', 'accessibilityLabel': '$36 per night, originally $47', 'concatQualifierLeft': False, 'discountedPrice': '$36', 'originalPrice': '$47', 'qualifier': 'night', 'trailingContent': None, 'adults': 1, 'children': 0, 'infants': 0, 'checkin': '2024-10-05', 'checkout': '2024-10-10', 'relaxedAmenityIds': None, 'categoryTag': 'Tag:8678', 'pets': 0, 'location': {'mapBoundsHint': {'northeast': {'latitude': 42.04889, 'longitude': -87.62015631828865}, 'southwest': {'latitude': 41.79599, 'longitude': -87.87788999999998}}, 'fallbackMapCenter': {'latitude': 41.8781136, 'longitude': -87.6297982}}, 'verified': {'enabled': False, 'badgeText': 'Plus', 'badgeSecondaryText': 'Verified', 'kickerBadgeType': 'filled'}, 'webURL': 'https://www.airbnb.com/rooms/609500552813051903?guests=1&adults=1', 'images': ['https://a0.muscache.com/im/pictures/miso/Hosting-567390850413961918/original/29110479-2199-44bb-8338-f095c8b6c964.jpeg?im_w=720', 'https://a0.muscache.com/im/pictures/9222671d-b347-489e-ab47-709fc7ef43e4.jpg?im_w=720', 'https://a0.muscache.com/im/pictures/miso/Hosting-567390850413961918/original/1afd804b-9330-4ff7-aa60-97a30dfb729d.jpeg?im_w=720', 'https://a0.muscache.com/im/pictures/miso/Hosting-609500552813051903/original/4d84945a-8603-4a9d-b0a6-504ae9968707.jpeg?im_w=720', 'https://a0.muscache.com/im/pictures/miso/Hosting-609500552813051903/original/d8b3e1f3-13f9-4f6d-832b-a8e52e92bbe8.jpeg?im_w=720', 'https://a0.muscache.com/im/pictures/miso/Hosting-567390850413961918/original/15b3ade3-5ee9-44c5-b892-2fd567c4e9c6.jpeg?im_w=720']}, {'avgRating': 4.44, 'listingBathroomLabel': '1 bath', 'bathrooms': 1, 'listingBedLabel': '1 bed', 'bedrooms': 0, 'beds': 1, 'businessHostLabel': None, 'city': 'Chicago', 'configurableContent': None, 'contextualPicturesPageInfo': {'hasNextPage': True, 'endCursor': 'NQ=='}, 'emergencyMessage': None, 'listingFloatingMessage': None, 'formattedBadges': [], 'listingGuestLabel': '2 guests', 'id': '962495821255361646', 'isAutoTranslated': False, 'isNewListing': False, 'isSuperhost': False, 'relaxedFilterLabels': None, 'localizedCityName': 'Chicago', 'localizedDistanceText': None, 'locationTitle': None, 'locationContext': None, 'listingName': 'Studio Haven in Rogers Park', 'listingObjType': 'REPRESENTATIVE', 'neighborhood': None, 'listingPreviewAmenityNames': None, 'previewTags': [], 'publicAddress': 'Chicago, IL, United States', 'reviews': [], 'reviewsCount': 121, 'richKickers': None, 'roomType': 'Entire home/apt', 'roomTypeCategory': 'entire_home', 'roomTypeId': None, 'spaceType': 'Apartment', 'starRating': 4.5, 'summary': None, 'wishlistedCount': None, 'title': 'Apartment in Chicago', 'avgRatingLocalized': '4.44 (121)', 'accessibilityLabel': '$72 per night, originally $103', 'concatQualifierLeft': False, 'discountedPrice': '$72', 'originalPrice': '$103', 'qualifier': 'night', 'trailingContent': None, 'adults': 1, 'children': 0, 'infants': 0, 'checkin': '2024-10-05', 'checkout': '2024-10-10', 'relaxedAmenityIds': None, 'categoryTag': None, 'pets': 0, 'location': {'mapBoundsHint': {'northeast': {'latitude': 42.04889, 'longitude': -87.62015631828865}, 'southwest': {'latitude': 41.79599, 'longitude': -87.87788999999998}}, 'fallbackMapCenter': {'latitude': 41.8781136, 'longitude': -87.6297982}}, 'verified': {'enabled': False, 'badgeText': 'Plus', 'badgeSecondaryText': 'Verified', 'kickerBadgeType': 'filled'}, 'webURL': 'https://www.airbnb.com/rooms/962495821255361646?guests=1&adults=1', 'images': ['https://a0.muscache.com/im/pictures/miso/Hosting-962495821255361646/original/fa0b7b45-e9bd-4516-a8ed-a4ad203e6e6b.jpeg?im_w=720', 'https://a0.muscache.com/im/pictures/miso/Hosting-962495821255361646/original/cae4b5cb-c568-4501-9c4c-3c5a5d7d7f6c.jpeg?im_w=720', 'https://a0.muscache.com/im/pictures/miso/Hosting-962495821255361646/original/66aca902-afa6-4006-8991-0d5ab35b19a1.jpeg?im_w=720', 'https://a0.muscache.com/im/pictures/miso/Hosting-962495821255361646/original/143be1d6-18ec-42f7-998c-469bf06332fa.jpeg?im_w=720', 'https://a0.muscache.com/im/pictures/miso/Hosting-962495821255361646/original/b502461b-1114-4a42-80e8-73cf26ba5e03.jpeg?im_w=720', 'https://a0.muscache.com/im/pictures/miso/Hosting-962495821255361646/original/df621a4a-6c7d-41df-9e62-5130a3366f0e.jpeg?im_w=720']}, {'avgRating': 4.75, 'listingBathroomLabel': '1 bath', 'bathrooms': 1, 'listingBedLabel': '', 'bedrooms': 1, 'beds': 0, 'businessHostLabel': None, 'city': 'Summit', 'configurableContent': None, 'contextualPicturesPageInfo': {'hasNextPage': True, 'endCursor': 'NQ=='}, 'emergencyMessage': None, 'listingFloatingMessage': None, 'formattedBadges': [], 'listingGuestLabel': '2 guests', 'id': '958574783945536807', 'isAutoTranslated': False, 'isNewListing': False, 'isSuperhost': False, 'relaxedFilterLabels': None, 'localizedCityName': 'Summit', 'localizedDistanceText': None, 'locationTitle': None, 'locationContext': None, 'listingName': 'Cozy 1 bedroom Apartment Near DownTown Chicago', 'listingObjType': 'REGULAR', 'neighborhood': None, 'listingPreviewAmenityNames': None, 'previewTags': [], 'publicAddress': 'Summit, IL, United States', 'reviews': [], 'reviewsCount': 28, 'richKickers': None, 'roomType': 'Entire home/apt', 'roomTypeCategory': 'entire_home', 'roomTypeId': None, 'spaceType': 'Apartment', 'starRating': 5, 'summary': None, 'wishlistedCount': None, 'title': 'Apartment in Summit', 'avgRatingLocalized': '4.75 (28)', 'accessibilityLabel': '$114 per night', 'concatQualifierLeft': False, 'price': '$114', 'qualifier': 'night', 'trailingContent': None, 'adults': 1, 'children': 0, 'infants': 0, 'checkin': '2024-10-01', 'checkout': '2024-10-06', 'relaxedAmenityIds': None, 'categoryTag': None, 'pets': 0, 'location': {'mapBoundsHint': {'northeast': {'latitude': 42.04889, 'longitude': -87.62015631828865}, 'southwest': {'latitude': 41.79599, 'longitude': -87.87788999999998}}, 'fallbackMapCenter': {'latitude': 41.8781136, 'longitude': -87.6297982}}, 'verified': {'enabled': False, 'badgeText': 'Plus', 'badgeSecondaryText': 'Verified', 'kickerBadgeType': 'filled'}, 'webURL': 'https://www.airbnb.com/rooms/958574783945536807?guests=1&adults=1', 'images': ['https://a0.muscache.com/im/pictures/hosting/Hosting-958574783945536807/original/067bf41b-5d23-4938-80b9-5280572452f0.jpeg?im_w=720', 'https://a0.muscache.com/im/pictures/hosting/Hosting-958574783945536807/original/9a95e3f5-3eb0-42a4-aaf3-ec5dc529b6b1.jpeg?im_w=720', 'https://a0.muscache.com/im/pictures/hosting/Hosting-958574783945536807/original/8fa506b2-ce23-4c0b-be02-3ac17f43d8c1.jpeg?im_w=720', 'https://a0.muscache.com/im/pictures/hosting/Hosting-958574783945536807/original/69ed9c98-57d7-4924-99b4-992aa8b53204.jpeg?im_w=720', 'https://a0.muscache.com/im/pictures/hosting/Hosting-958574783945536807/original/d999e190-11ef-4909-886e-d9a30786b970.jpeg?im_w=720', 'https://a0.muscache.com/im/pictures/hosting/Hosting-958574783945536807/original/968aacdf-971e-411f-a652-1fc6ffcb6ed3.jpeg?im_w=720']}, {'avgRating': 4.68, 'listingBathroomLabel': '1 shared bath', 'bathrooms': 1, 'listingBedLabel': '1 bed', 'bedrooms': 1, 'beds': 1, 'businessHostLabel': None, 'city': 'Chicago', 'configurableContent': None, 'contextualPicturesPageInfo': {'hasNextPage': True, 'endCursor': 'NQ=='}, 'emergencyMessage': None, 'listingFloatingMessage': None, 'formattedBadges': [], 'listingGuestLabel': '1 guest', 'id': '945257250578508889', 'isAutoTranslated': False, 'isNewListing': False, 'isSuperhost': False, 'relaxedFilterLabels': None, 'localizedCityName': 'Chicago', 'localizedDistanceText': None, 'locationTitle': None, 'locationContext': None, 'listingName': 'Private BR Located in Chinatown', 'listingObjType': 'REGULAR', 'neighborhood': None, 'listingPreviewAmenityNames': None, 'previewTags': [], 'publicAddress': 'Chicago, IL, United States', 'reviews': [], 'reviewsCount': 31, 'richKickers': None, 'roomType': 'Private room', 'roomTypeCategory': 'private_room', 'roomTypeId': None, 'spaceType': 'Private room', 'starRating': 4.5, 'summary': None, 'wishlistedCount': None, 'title': 'Room in Chicago', 'avgRatingLocalized': '4.68 (31)', 'accessibilityLabel': '$45 per night', 'concatQualifierLeft': False, 'price': '$45', 'qualifier': 'night', 'trailingContent': None, 'adults': 1, 'children': 0, 'infants': 0, 'checkin': '2024-10-26', 'checkout': '2024-10-31', 'relaxedAmenityIds': None, 'categoryTag': 'Tag:8678', 'pets': 0, 'location': {'mapBoundsHint': {'northeast': {'latitude': 42.04889, 'longitude': -87.62015631828865}, 'southwest': {'latitude': 41.79599, 'longitude': -87.87788999999998}}, 'fallbackMapCenter': {'latitude': 41.8781136, 'longitude': -87.6297982}}, 'verified': {'enabled': False, 'badgeText': 'Plus', 'badgeSecondaryText': 'Verified', 'kickerBadgeType': 'filled'}, 'webURL': 'https://www.airbnb.com/rooms/945257250578508889?guests=1&adults=1', 'images': ['https://a0.muscache.com/im/pictures/miso/Hosting-945257250578508889/original/aa635f45-4e2f-4d52-b2ff-e82b5d0673e4.jpeg?im_w=720', 'https://a0.muscache.com/im/pictures/miso/Hosting-945257250578508889/original/a64f7ecd-176d-4456-9edf-fded39fd6eb5.jpeg?im_w=720', 'https://a0.muscache.com/im/pictures/miso/Hosting-945257250578508889/original/eac8c754-95bc-4759-ae28-ce23d61f6143.jpeg?im_w=720', 'https://a0.muscache.com/im/pictures/miso/Hosting-945257250578508889/original/74f4c576-343e-40e7-83d4-fedfe8699c56.jpeg?im_w=720', 'https://a0.muscache.com/im/pictures/miso/Hosting-945257250578508889/original/486802d7-7bb1-4540-9222-6b348a53fc43.jpeg?im_w=720', 'https://a0.muscache.com/im/pictures/miso/Hosting-945257250578508889/original/cdcc7bf1-d603-442c-8db3-176752f9e83a.jpeg?im_w=720']}, {'avgRating': 4.65, 'listingBathroomLabel': '1 bath', 'bathrooms': 1, 'listingBedLabel': '2 beds', 'bedrooms': 2, 'beds': 2, 'businessHostLabel': None, 'city': 'Cicero', 'configurableContent': None, 'contextualPicturesPageInfo': {'hasNextPage': True, 'endCursor': 'NQ=='}, 'emergencyMessage': None, 'listingFloatingMessage': None, 'formattedBadges': [], 'listingGuestLabel': '4 guests', 'id': '739341344690838391', 'isAutoTranslated': False, 'isNewListing': False, 'isSuperhost': False, 'relaxedFilterLabels': None, 'localizedCityName': 'Cicero', 'localizedDistanceText': None, 'locationTitle': None, 'locationContext': None, 'listingName': 'Garaged parking, budget friendly, close to city', 'listingObjType': 'REGULAR', 'neighborhood': None, 'listingPreviewAmenityNames': None, 'previewTags': [], 'publicAddress': 'Cicero, IL, United States', 'reviews': [], 'reviewsCount': 122, 'richKickers': None, 'roomType': 'Entire home/apt', 'roomTypeCategory': 'entire_home', 'roomTypeId': None, 'spaceType': 'Apartment', 'starRating': 4.5, 'summary': None, 'wishlistedCount': None, 'title': 'Apartment in Cicero', 'avgRatingLocalized': '4.65 (122)', 'accessibilityLabel': '$94 per night, originally $112', 'concatQualifierLeft': False, 'discountedPrice': '$94', 'originalPrice': '$112', 'qualifier': 'night', 'trailingContent': None, 'adults': 1, 'children': 0, 'infants': 0, 'checkin': '2024-10-20', 'checkout': '2024-10-25', 'relaxedAmenityIds': None, 'categoryTag': None, 'pets': 0, 'location': {'mapBoundsHint': {'northeast': {'latitude': 42.04889, 'longitude': -87.62015631828865}, 'southwest': {'latitude': 41.79599, 'longitude': -87.87788999999998}}, 'fallbackMapCenter': {'latitude': 41.8781136, 'longitude': -87.6297982}}, 'verified': {'enabled': False, 'badgeText': 'Plus', 'badgeSecondaryText': 'Verified', 'kickerBadgeType': 'filled'}, 'webURL': 'https://www.airbnb.com/rooms/739341344690838391?guests=1&adults=1', 'images': ['https://a0.muscache.com/im/pictures/2b14418f-d7f3-473f-a508-c29f4892dd53.jpg?im_w=720', 'https://a0.muscache.com/im/pictures/f2764c6a-e82a-43b2-98ec-b623bafc00a7.jpg?im_w=720', 'https://a0.muscache.com/im/pictures/99a5feff-81cf-4f2d-bae4-3a533ca0a649.jpg?im_w=720', 'https://a0.muscache.com/im/pictures/e60bc8d1-b741-49be-b464-784fc650e054.jpg?im_w=720', 'https://a0.muscache.com/im/pictures/21dac9a0-4b43-4ba6-8f96-d024bfe6a170.jpg?im_w=720', 'https://a0.muscache.com/im/pictures/37b963bc-959d-48d7-887c-bd2049202927.jpg?im_w=720']}]}\n"
     ]
    }
   ],
   "source": [
    "if my_key: #teacher's code\n",
    "    print(\"API Key loaded successfully.\")\n",
    "else:\n",
    "    print(\"API Key not found. Please check your .env file.\")\n",
    "\n",
    "url = \"https://airbnb19.p.rapidapi.com/api/v1/searchPropertyByPlace?id=ChIJ7cv00DwsDogRAMDACa2m4K8&display_name=Chicago%2C%20IL&to\"\n",
    "headers = {\n",
    "    \"x-rapidapi-host\": \"airbnb19.p.rapidapi.com\",\n",
    "    \"x-rapidapi-key\": my_key\n",
    "}\n",
    "\n",
    "response = requests.get(url, headers=headers)\n",
    "\n",
    "if response.status_code == 200:\n",
    "    print(\"Request successful!\")\n",
    "    print(response.json()) \n",
    "elif response.status_code == 401:\n",
    "    print(\"401 Unauthorized - Check your API key and headers.\")\n",
    "    print(\"Response text:\", response.text)\n",
    "else:\n",
    "    print(f\"Error {response.status_code}: {response.text}\")\n"
   ]
  },
  {
   "cell_type": "code",
   "execution_count": 15,
   "id": "0436833e-b027-40e0-85b9-72a447727d9f",
   "metadata": {},
   "outputs": [],
   "source": [
    "import pandas as pd"
   ]
  },
  {
   "cell_type": "code",
   "execution_count": 16,
   "id": "2515724d-973e-4f5c-a4bd-28c5d7c5a9ba",
   "metadata": {},
   "outputs": [],
   "source": [
    "data = response.json()\n",
    "df = pd.DataFrame(data)"
   ]
  },
  {
   "cell_type": "code",
   "execution_count": 20,
   "id": "74d229fe-173e-454e-a189-504871517960",
   "metadata": {},
   "outputs": [],
   "source": [
    "#df"
   ]
  },
  {
   "cell_type": "code",
   "execution_count": 18,
   "id": "f4ab2a56-6516-4fb9-b7f6-53fbf102b150",
   "metadata": {},
   "outputs": [
    {
     "data": {
      "text/plain": [
       "Index(['status', 'message', 'timestamp', 'data'], dtype='object')"
      ]
     },
     "execution_count": 18,
     "metadata": {},
     "output_type": "execute_result"
    }
   ],
   "source": [
    "df.keys()"
   ]
  },
  {
   "cell_type": "code",
   "execution_count": 19,
   "id": "1989b650-7bf7-407a-a87c-c737f8225b0e",
   "metadata": {},
   "outputs": [],
   "source": [
    "data= df.get(\"data\")"
   ]
  },
  {
   "cell_type": "code",
   "execution_count": 21,
   "id": "a8aaac25-bea2-444a-b485-d825d752021e",
   "metadata": {},
   "outputs": [],
   "source": [
    "#data"
   ]
  },
  {
   "cell_type": "code",
   "execution_count": 22,
   "id": "ea5d6da8-3348-4574-ba7b-f57d970eb128",
   "metadata": {},
   "outputs": [],
   "source": [
    "#data[0]"
   ]
  },
  {
   "cell_type": "code",
   "execution_count": 23,
   "id": "a4264046-ed26-47a1-9092-5c3224d0f41f",
   "metadata": {},
   "outputs": [],
   "source": [
    "#cities= []\n",
    "#for city in data:\n",
    "#    cities.append(city[\"city\"])\n",
    "#cities"
   ]
  },
  {
   "cell_type": "code",
   "execution_count": 105,
   "id": "ad6e0fa8-8424-4bc6-9f62-53ce8c3468aa",
   "metadata": {},
   "outputs": [
    {
     "data": {
      "text/plain": [
       "20"
      ]
     },
     "execution_count": 105,
     "metadata": {},
     "output_type": "execute_result"
    }
   ],
   "source": [
    "len(cities)"
   ]
  },
  {
   "cell_type": "code",
   "execution_count": 29,
   "id": "cfc6b167-7ddb-4795-8534-00fc5c331f0b",
   "metadata": {},
   "outputs": [],
   "source": [
    "data2 = [element[\"city\"] for element in data] # lets get all the titles using list comprehension\n",
    "data3 = [element[\"avgRating\"] for element in data] # lets get all the titles using list comprehension"
   ]
  },
  {
   "cell_type": "code",
   "execution_count": 24,
   "id": "460ccabe-a1e3-4d85-933c-1aef5486c4c9",
   "metadata": {},
   "outputs": [],
   "source": [
    "#data2"
   ]
  },
  {
   "cell_type": "code",
   "execution_count": 25,
   "id": "3180695e-2cab-4026-8453-df3a99d59094",
   "metadata": {},
   "outputs": [],
   "source": [
    "#data3"
   ]
  },
  {
   "cell_type": "code",
   "execution_count": 30,
   "id": "9f343a75-322a-4e75-8345-b1a31e3b4073",
   "metadata": {},
   "outputs": [],
   "source": [
    "data4 = [element[\"listingName\"] for element in data] # lets get all the titles using list comprehension"
   ]
  },
  {
   "cell_type": "code",
   "execution_count": 26,
   "id": "3c71b069-9479-4d44-9d1d-8bfd1fc45d6d",
   "metadata": {},
   "outputs": [],
   "source": [
    "#data4"
   ]
  },
  {
   "cell_type": "code",
   "execution_count": 31,
   "id": "96a24621-8fef-4c0b-bc65-6a83bc306a0f",
   "metadata": {},
   "outputs": [],
   "source": [
    "df2 = pd.DataFrame(data2)\n",
    "df3 = pd.DataFrame(data3)\n",
    "df4 = pd.DataFrame(data4)"
   ]
  },
  {
   "cell_type": "code",
   "execution_count": 32,
   "id": "f2e56dcf-2455-4d55-b292-23acec77a68e",
   "metadata": {},
   "outputs": [
    {
     "data": {
      "text/html": [
       "<div>\n",
       "<style scoped>\n",
       "    .dataframe tbody tr th:only-of-type {\n",
       "        vertical-align: middle;\n",
       "    }\n",
       "\n",
       "    .dataframe tbody tr th {\n",
       "        vertical-align: top;\n",
       "    }\n",
       "\n",
       "    .dataframe thead th {\n",
       "        text-align: right;\n",
       "    }\n",
       "</style>\n",
       "<table border=\"1\" class=\"dataframe\">\n",
       "  <thead>\n",
       "    <tr style=\"text-align: right;\">\n",
       "      <th></th>\n",
       "      <th>0</th>\n",
       "      <th>0</th>\n",
       "      <th>0</th>\n",
       "    </tr>\n",
       "  </thead>\n",
       "  <tbody>\n",
       "    <tr>\n",
       "      <th>0</th>\n",
       "      <td>4.71</td>\n",
       "      <td>Guest 2 Queen Room at Aloft Chicago Mag Mile</td>\n",
       "      <td>Chicago</td>\n",
       "    </tr>\n",
       "    <tr>\n",
       "      <th>1</th>\n",
       "      <td>3.91</td>\n",
       "      <td>Modern Metropolitan Stay Near Navy Pier</td>\n",
       "      <td>Chicago</td>\n",
       "    </tr>\n",
       "    <tr>\n",
       "      <th>2</th>\n",
       "      <td>4.94</td>\n",
       "      <td>Room FLO is cute, cozy and a private room</td>\n",
       "      <td>Lyons</td>\n",
       "    </tr>\n",
       "    <tr>\n",
       "      <th>3</th>\n",
       "      <td>5.00</td>\n",
       "      <td>PrivateAPT/Near Food, Stores,Garage parking</td>\n",
       "      <td>Berwyn</td>\n",
       "    </tr>\n",
       "    <tr>\n",
       "      <th>4</th>\n",
       "      <td>4.97</td>\n",
       "      <td>Private hot tub - King bed suite - Free parking</td>\n",
       "      <td>Chicago</td>\n",
       "    </tr>\n",
       "    <tr>\n",
       "      <th>5</th>\n",
       "      <td>NaN</td>\n",
       "      <td>Traveler's Dream - 1 bed in a shared bedroom</td>\n",
       "      <td>Chicago</td>\n",
       "    </tr>\n",
       "    <tr>\n",
       "      <th>6</th>\n",
       "      <td>4.69</td>\n",
       "      <td>1BR Modern Apartment in Lincoln Square</td>\n",
       "      <td>Chicago</td>\n",
       "    </tr>\n",
       "    <tr>\n",
       "      <th>7</th>\n",
       "      <td>4.92</td>\n",
       "      <td>Room near Northwestern &amp;\\nDowntown Chicago!</td>\n",
       "      <td>Skokie</td>\n",
       "    </tr>\n",
       "    <tr>\n",
       "      <th>8</th>\n",
       "      <td>4.81</td>\n",
       "      <td>Loft Style Private Apt (1 Room- 420 Friendly)</td>\n",
       "      <td>Chicago</td>\n",
       "    </tr>\n",
       "    <tr>\n",
       "      <th>9</th>\n",
       "      <td>4.87</td>\n",
       "      <td>Cozy PrivateRoom+ExclusiveBathroom+FreeStreetP...</td>\n",
       "      <td>Chicago</td>\n",
       "    </tr>\n",
       "    <tr>\n",
       "      <th>10</th>\n",
       "      <td>4.97</td>\n",
       "      <td>A1- Next to the train &amp; Downtown</td>\n",
       "      <td>Chicago</td>\n",
       "    </tr>\n",
       "    <tr>\n",
       "      <th>11</th>\n",
       "      <td>4.88</td>\n",
       "      <td>R2 Cozy room in a convenient location by a river</td>\n",
       "      <td>Des Plaines</td>\n",
       "    </tr>\n",
       "    <tr>\n",
       "      <th>12</th>\n",
       "      <td>4.60</td>\n",
       "      <td>P6. Next to Downtown! Best location</td>\n",
       "      <td>Chicago</td>\n",
       "    </tr>\n",
       "    <tr>\n",
       "      <th>13</th>\n",
       "      <td>5.00</td>\n",
       "      <td>Cozy 1BR APT</td>\n",
       "      <td>Summit</td>\n",
       "    </tr>\n",
       "    <tr>\n",
       "      <th>14</th>\n",
       "      <td>4.89</td>\n",
       "      <td>Victorian Antique room</td>\n",
       "      <td>Franklin Park</td>\n",
       "    </tr>\n",
       "    <tr>\n",
       "      <th>15</th>\n",
       "      <td>4.73</td>\n",
       "      <td>H2- A Block to Wrigley Field - UpTo3Guests</td>\n",
       "      <td>Chicago</td>\n",
       "    </tr>\n",
       "    <tr>\n",
       "      <th>16</th>\n",
       "      <td>4.44</td>\n",
       "      <td>Studio Haven in Rogers Park</td>\n",
       "      <td>Chicago</td>\n",
       "    </tr>\n",
       "    <tr>\n",
       "      <th>17</th>\n",
       "      <td>4.75</td>\n",
       "      <td>Cozy 1 bedroom Apartment Near DownTown Chicago</td>\n",
       "      <td>Summit</td>\n",
       "    </tr>\n",
       "    <tr>\n",
       "      <th>18</th>\n",
       "      <td>4.68</td>\n",
       "      <td>Private BR Located in Chinatown</td>\n",
       "      <td>Chicago</td>\n",
       "    </tr>\n",
       "    <tr>\n",
       "      <th>19</th>\n",
       "      <td>4.65</td>\n",
       "      <td>Garaged parking, budget friendly, close to city</td>\n",
       "      <td>Cicero</td>\n",
       "    </tr>\n",
       "  </tbody>\n",
       "</table>\n",
       "</div>"
      ],
      "text/plain": [
       "       0                                                  0              0\n",
       "0   4.71       Guest 2 Queen Room at Aloft Chicago Mag Mile        Chicago\n",
       "1   3.91            Modern Metropolitan Stay Near Navy Pier        Chicago\n",
       "2   4.94          Room FLO is cute, cozy and a private room          Lyons\n",
       "3   5.00        PrivateAPT/Near Food, Stores,Garage parking         Berwyn\n",
       "4   4.97    Private hot tub - King bed suite - Free parking        Chicago\n",
       "5    NaN       Traveler's Dream - 1 bed in a shared bedroom        Chicago\n",
       "6   4.69             1BR Modern Apartment in Lincoln Square        Chicago\n",
       "7   4.92        Room near Northwestern &\\nDowntown Chicago!         Skokie\n",
       "8   4.81      Loft Style Private Apt (1 Room- 420 Friendly)        Chicago\n",
       "9   4.87  Cozy PrivateRoom+ExclusiveBathroom+FreeStreetP...        Chicago\n",
       "10  4.97                   A1- Next to the train & Downtown        Chicago\n",
       "11  4.88   R2 Cozy room in a convenient location by a river    Des Plaines\n",
       "12  4.60                P6. Next to Downtown! Best location        Chicago\n",
       "13  5.00                                       Cozy 1BR APT         Summit\n",
       "14  4.89                             Victorian Antique room  Franklin Park\n",
       "15  4.73         H2- A Block to Wrigley Field - UpTo3Guests        Chicago\n",
       "16  4.44                        Studio Haven in Rogers Park        Chicago\n",
       "17  4.75     Cozy 1 bedroom Apartment Near DownTown Chicago         Summit\n",
       "18  4.68                    Private BR Located in Chinatown        Chicago\n",
       "19  4.65    Garaged parking, budget friendly, close to city         Cicero"
      ]
     },
     "execution_count": 32,
     "metadata": {},
     "output_type": "execute_result"
    }
   ],
   "source": [
    "df_final=pd.concat([df3,df4,df2], axis=1)\n",
    "df_final.head(20)"
   ]
  },
  {
   "cell_type": "code",
   "execution_count": 122,
   "id": "30cc660a-82e9-4e2c-b6ea-67d7bbc9c632",
   "metadata": {},
   "outputs": [
    {
     "data": {
      "text/plain": [
       "(20, 3)"
      ]
     },
     "execution_count": 122,
     "metadata": {},
     "output_type": "execute_result"
    }
   ],
   "source": [
    "df_final.shape"
   ]
  },
  {
   "cell_type": "code",
   "execution_count": 33,
   "id": "d4ac9886-7725-447a-9423-a0c3835118ea",
   "metadata": {},
   "outputs": [],
   "source": [
    "df_final.columns= [\"rating\", \"airbnb_name\", \"city\"]"
   ]
  },
  {
   "cell_type": "code",
   "execution_count": 34,
   "id": "575d39b1-e9b9-464c-8f1f-399db30ca98e",
   "metadata": {},
   "outputs": [
    {
     "data": {
      "text/html": [
       "<div>\n",
       "<style scoped>\n",
       "    .dataframe tbody tr th:only-of-type {\n",
       "        vertical-align: middle;\n",
       "    }\n",
       "\n",
       "    .dataframe tbody tr th {\n",
       "        vertical-align: top;\n",
       "    }\n",
       "\n",
       "    .dataframe thead th {\n",
       "        text-align: right;\n",
       "    }\n",
       "</style>\n",
       "<table border=\"1\" class=\"dataframe\">\n",
       "  <thead>\n",
       "    <tr style=\"text-align: right;\">\n",
       "      <th></th>\n",
       "      <th>rating</th>\n",
       "      <th>airbnb_name</th>\n",
       "      <th>city</th>\n",
       "    </tr>\n",
       "  </thead>\n",
       "  <tbody>\n",
       "    <tr>\n",
       "      <th>0</th>\n",
       "      <td>4.71</td>\n",
       "      <td>Guest 2 Queen Room at Aloft Chicago Mag Mile</td>\n",
       "      <td>Chicago</td>\n",
       "    </tr>\n",
       "    <tr>\n",
       "      <th>1</th>\n",
       "      <td>3.91</td>\n",
       "      <td>Modern Metropolitan Stay Near Navy Pier</td>\n",
       "      <td>Chicago</td>\n",
       "    </tr>\n",
       "    <tr>\n",
       "      <th>2</th>\n",
       "      <td>4.94</td>\n",
       "      <td>Room FLO is cute, cozy and a private room</td>\n",
       "      <td>Lyons</td>\n",
       "    </tr>\n",
       "    <tr>\n",
       "      <th>3</th>\n",
       "      <td>5.00</td>\n",
       "      <td>PrivateAPT/Near Food, Stores,Garage parking</td>\n",
       "      <td>Berwyn</td>\n",
       "    </tr>\n",
       "    <tr>\n",
       "      <th>4</th>\n",
       "      <td>4.97</td>\n",
       "      <td>Private hot tub - King bed suite - Free parking</td>\n",
       "      <td>Chicago</td>\n",
       "    </tr>\n",
       "    <tr>\n",
       "      <th>5</th>\n",
       "      <td>NaN</td>\n",
       "      <td>Traveler's Dream - 1 bed in a shared bedroom</td>\n",
       "      <td>Chicago</td>\n",
       "    </tr>\n",
       "    <tr>\n",
       "      <th>6</th>\n",
       "      <td>4.69</td>\n",
       "      <td>1BR Modern Apartment in Lincoln Square</td>\n",
       "      <td>Chicago</td>\n",
       "    </tr>\n",
       "    <tr>\n",
       "      <th>7</th>\n",
       "      <td>4.92</td>\n",
       "      <td>Room near Northwestern &amp;\\nDowntown Chicago!</td>\n",
       "      <td>Skokie</td>\n",
       "    </tr>\n",
       "    <tr>\n",
       "      <th>8</th>\n",
       "      <td>4.81</td>\n",
       "      <td>Loft Style Private Apt (1 Room- 420 Friendly)</td>\n",
       "      <td>Chicago</td>\n",
       "    </tr>\n",
       "    <tr>\n",
       "      <th>9</th>\n",
       "      <td>4.87</td>\n",
       "      <td>Cozy PrivateRoom+ExclusiveBathroom+FreeStreetP...</td>\n",
       "      <td>Chicago</td>\n",
       "    </tr>\n",
       "    <tr>\n",
       "      <th>10</th>\n",
       "      <td>4.97</td>\n",
       "      <td>A1- Next to the train &amp; Downtown</td>\n",
       "      <td>Chicago</td>\n",
       "    </tr>\n",
       "    <tr>\n",
       "      <th>11</th>\n",
       "      <td>4.88</td>\n",
       "      <td>R2 Cozy room in a convenient location by a river</td>\n",
       "      <td>Des Plaines</td>\n",
       "    </tr>\n",
       "    <tr>\n",
       "      <th>12</th>\n",
       "      <td>4.60</td>\n",
       "      <td>P6. Next to Downtown! Best location</td>\n",
       "      <td>Chicago</td>\n",
       "    </tr>\n",
       "    <tr>\n",
       "      <th>13</th>\n",
       "      <td>5.00</td>\n",
       "      <td>Cozy 1BR APT</td>\n",
       "      <td>Summit</td>\n",
       "    </tr>\n",
       "    <tr>\n",
       "      <th>14</th>\n",
       "      <td>4.89</td>\n",
       "      <td>Victorian Antique room</td>\n",
       "      <td>Franklin Park</td>\n",
       "    </tr>\n",
       "    <tr>\n",
       "      <th>15</th>\n",
       "      <td>4.73</td>\n",
       "      <td>H2- A Block to Wrigley Field - UpTo3Guests</td>\n",
       "      <td>Chicago</td>\n",
       "    </tr>\n",
       "    <tr>\n",
       "      <th>16</th>\n",
       "      <td>4.44</td>\n",
       "      <td>Studio Haven in Rogers Park</td>\n",
       "      <td>Chicago</td>\n",
       "    </tr>\n",
       "    <tr>\n",
       "      <th>17</th>\n",
       "      <td>4.75</td>\n",
       "      <td>Cozy 1 bedroom Apartment Near DownTown Chicago</td>\n",
       "      <td>Summit</td>\n",
       "    </tr>\n",
       "    <tr>\n",
       "      <th>18</th>\n",
       "      <td>4.68</td>\n",
       "      <td>Private BR Located in Chinatown</td>\n",
       "      <td>Chicago</td>\n",
       "    </tr>\n",
       "    <tr>\n",
       "      <th>19</th>\n",
       "      <td>4.65</td>\n",
       "      <td>Garaged parking, budget friendly, close to city</td>\n",
       "      <td>Cicero</td>\n",
       "    </tr>\n",
       "  </tbody>\n",
       "</table>\n",
       "</div>"
      ],
      "text/plain": [
       "    rating                                        airbnb_name           city\n",
       "0     4.71       Guest 2 Queen Room at Aloft Chicago Mag Mile        Chicago\n",
       "1     3.91            Modern Metropolitan Stay Near Navy Pier        Chicago\n",
       "2     4.94          Room FLO is cute, cozy and a private room          Lyons\n",
       "3     5.00        PrivateAPT/Near Food, Stores,Garage parking         Berwyn\n",
       "4     4.97    Private hot tub - King bed suite - Free parking        Chicago\n",
       "5      NaN       Traveler's Dream - 1 bed in a shared bedroom        Chicago\n",
       "6     4.69             1BR Modern Apartment in Lincoln Square        Chicago\n",
       "7     4.92        Room near Northwestern &\\nDowntown Chicago!         Skokie\n",
       "8     4.81      Loft Style Private Apt (1 Room- 420 Friendly)        Chicago\n",
       "9     4.87  Cozy PrivateRoom+ExclusiveBathroom+FreeStreetP...        Chicago\n",
       "10    4.97                   A1- Next to the train & Downtown        Chicago\n",
       "11    4.88   R2 Cozy room in a convenient location by a river    Des Plaines\n",
       "12    4.60                P6. Next to Downtown! Best location        Chicago\n",
       "13    5.00                                       Cozy 1BR APT         Summit\n",
       "14    4.89                             Victorian Antique room  Franklin Park\n",
       "15    4.73         H2- A Block to Wrigley Field - UpTo3Guests        Chicago\n",
       "16    4.44                        Studio Haven in Rogers Park        Chicago\n",
       "17    4.75     Cozy 1 bedroom Apartment Near DownTown Chicago         Summit\n",
       "18    4.68                    Private BR Located in Chinatown        Chicago\n",
       "19    4.65    Garaged parking, budget friendly, close to city         Cicero"
      ]
     },
     "execution_count": 34,
     "metadata": {},
     "output_type": "execute_result"
    }
   ],
   "source": [
    "df_final"
   ]
  },
  {
   "cell_type": "code",
   "execution_count": 35,
   "id": "462c6c39-8714-415c-afd9-086627647990",
   "metadata": {},
   "outputs": [
    {
     "data": {
      "text/html": [
       "<div>\n",
       "<style scoped>\n",
       "    .dataframe tbody tr th:only-of-type {\n",
       "        vertical-align: middle;\n",
       "    }\n",
       "\n",
       "    .dataframe tbody tr th {\n",
       "        vertical-align: top;\n",
       "    }\n",
       "\n",
       "    .dataframe thead th {\n",
       "        text-align: right;\n",
       "    }\n",
       "</style>\n",
       "<table border=\"1\" class=\"dataframe\">\n",
       "  <thead>\n",
       "    <tr style=\"text-align: right;\">\n",
       "      <th></th>\n",
       "      <th>rating</th>\n",
       "      <th>airbnb_name</th>\n",
       "      <th>city</th>\n",
       "    </tr>\n",
       "  </thead>\n",
       "  <tbody>\n",
       "    <tr>\n",
       "      <th>13</th>\n",
       "      <td>5.00</td>\n",
       "      <td>Cozy 1BR APT</td>\n",
       "      <td>Summit</td>\n",
       "    </tr>\n",
       "    <tr>\n",
       "      <th>3</th>\n",
       "      <td>5.00</td>\n",
       "      <td>PrivateAPT/Near Food, Stores,Garage parking</td>\n",
       "      <td>Berwyn</td>\n",
       "    </tr>\n",
       "    <tr>\n",
       "      <th>10</th>\n",
       "      <td>4.97</td>\n",
       "      <td>A1- Next to the train &amp; Downtown</td>\n",
       "      <td>Chicago</td>\n",
       "    </tr>\n",
       "    <tr>\n",
       "      <th>4</th>\n",
       "      <td>4.97</td>\n",
       "      <td>Private hot tub - King bed suite - Free parking</td>\n",
       "      <td>Chicago</td>\n",
       "    </tr>\n",
       "    <tr>\n",
       "      <th>2</th>\n",
       "      <td>4.94</td>\n",
       "      <td>Room FLO is cute, cozy and a private room</td>\n",
       "      <td>Lyons</td>\n",
       "    </tr>\n",
       "    <tr>\n",
       "      <th>7</th>\n",
       "      <td>4.92</td>\n",
       "      <td>Room near Northwestern &amp;\\nDowntown Chicago!</td>\n",
       "      <td>Skokie</td>\n",
       "    </tr>\n",
       "    <tr>\n",
       "      <th>14</th>\n",
       "      <td>4.89</td>\n",
       "      <td>Victorian Antique room</td>\n",
       "      <td>Franklin Park</td>\n",
       "    </tr>\n",
       "    <tr>\n",
       "      <th>11</th>\n",
       "      <td>4.88</td>\n",
       "      <td>R2 Cozy room in a convenient location by a river</td>\n",
       "      <td>Des Plaines</td>\n",
       "    </tr>\n",
       "    <tr>\n",
       "      <th>9</th>\n",
       "      <td>4.87</td>\n",
       "      <td>Cozy PrivateRoom+ExclusiveBathroom+FreeStreetP...</td>\n",
       "      <td>Chicago</td>\n",
       "    </tr>\n",
       "    <tr>\n",
       "      <th>8</th>\n",
       "      <td>4.81</td>\n",
       "      <td>Loft Style Private Apt (1 Room- 420 Friendly)</td>\n",
       "      <td>Chicago</td>\n",
       "    </tr>\n",
       "    <tr>\n",
       "      <th>17</th>\n",
       "      <td>4.75</td>\n",
       "      <td>Cozy 1 bedroom Apartment Near DownTown Chicago</td>\n",
       "      <td>Summit</td>\n",
       "    </tr>\n",
       "    <tr>\n",
       "      <th>15</th>\n",
       "      <td>4.73</td>\n",
       "      <td>H2- A Block to Wrigley Field - UpTo3Guests</td>\n",
       "      <td>Chicago</td>\n",
       "    </tr>\n",
       "    <tr>\n",
       "      <th>0</th>\n",
       "      <td>4.71</td>\n",
       "      <td>Guest 2 Queen Room at Aloft Chicago Mag Mile</td>\n",
       "      <td>Chicago</td>\n",
       "    </tr>\n",
       "    <tr>\n",
       "      <th>6</th>\n",
       "      <td>4.69</td>\n",
       "      <td>1BR Modern Apartment in Lincoln Square</td>\n",
       "      <td>Chicago</td>\n",
       "    </tr>\n",
       "    <tr>\n",
       "      <th>18</th>\n",
       "      <td>4.68</td>\n",
       "      <td>Private BR Located in Chinatown</td>\n",
       "      <td>Chicago</td>\n",
       "    </tr>\n",
       "    <tr>\n",
       "      <th>19</th>\n",
       "      <td>4.65</td>\n",
       "      <td>Garaged parking, budget friendly, close to city</td>\n",
       "      <td>Cicero</td>\n",
       "    </tr>\n",
       "    <tr>\n",
       "      <th>12</th>\n",
       "      <td>4.60</td>\n",
       "      <td>P6. Next to Downtown! Best location</td>\n",
       "      <td>Chicago</td>\n",
       "    </tr>\n",
       "    <tr>\n",
       "      <th>16</th>\n",
       "      <td>4.44</td>\n",
       "      <td>Studio Haven in Rogers Park</td>\n",
       "      <td>Chicago</td>\n",
       "    </tr>\n",
       "    <tr>\n",
       "      <th>1</th>\n",
       "      <td>3.91</td>\n",
       "      <td>Modern Metropolitan Stay Near Navy Pier</td>\n",
       "      <td>Chicago</td>\n",
       "    </tr>\n",
       "    <tr>\n",
       "      <th>5</th>\n",
       "      <td>NaN</td>\n",
       "      <td>Traveler's Dream - 1 bed in a shared bedroom</td>\n",
       "      <td>Chicago</td>\n",
       "    </tr>\n",
       "  </tbody>\n",
       "</table>\n",
       "</div>"
      ],
      "text/plain": [
       "    rating                                        airbnb_name           city\n",
       "13    5.00                                       Cozy 1BR APT         Summit\n",
       "3     5.00        PrivateAPT/Near Food, Stores,Garage parking         Berwyn\n",
       "10    4.97                   A1- Next to the train & Downtown        Chicago\n",
       "4     4.97    Private hot tub - King bed suite - Free parking        Chicago\n",
       "2     4.94          Room FLO is cute, cozy and a private room          Lyons\n",
       "7     4.92        Room near Northwestern &\\nDowntown Chicago!         Skokie\n",
       "14    4.89                             Victorian Antique room  Franklin Park\n",
       "11    4.88   R2 Cozy room in a convenient location by a river    Des Plaines\n",
       "9     4.87  Cozy PrivateRoom+ExclusiveBathroom+FreeStreetP...        Chicago\n",
       "8     4.81      Loft Style Private Apt (1 Room- 420 Friendly)        Chicago\n",
       "17    4.75     Cozy 1 bedroom Apartment Near DownTown Chicago         Summit\n",
       "15    4.73         H2- A Block to Wrigley Field - UpTo3Guests        Chicago\n",
       "0     4.71       Guest 2 Queen Room at Aloft Chicago Mag Mile        Chicago\n",
       "6     4.69             1BR Modern Apartment in Lincoln Square        Chicago\n",
       "18    4.68                    Private BR Located in Chinatown        Chicago\n",
       "19    4.65    Garaged parking, budget friendly, close to city         Cicero\n",
       "12    4.60                P6. Next to Downtown! Best location        Chicago\n",
       "16    4.44                        Studio Haven in Rogers Park        Chicago\n",
       "1     3.91            Modern Metropolitan Stay Near Navy Pier        Chicago\n",
       "5      NaN       Traveler's Dream - 1 bed in a shared bedroom        Chicago"
      ]
     },
     "execution_count": 35,
     "metadata": {},
     "output_type": "execute_result"
    }
   ],
   "source": [
    "df_final.sort_values(by=\"rating\", ascending= False) #the best airbnbs in the df"
   ]
  }
 ],
 "metadata": {
  "kernelspec": {
   "display_name": "Python 3 (ipykernel)",
   "language": "python",
   "name": "python3"
  },
  "language_info": {
   "codemirror_mode": {
    "name": "ipython",
    "version": 3
   },
   "file_extension": ".py",
   "mimetype": "text/x-python",
   "name": "python",
   "nbconvert_exporter": "python",
   "pygments_lexer": "ipython3",
   "version": "3.11.7"
  }
 },
 "nbformat": 4,
 "nbformat_minor": 5
}
